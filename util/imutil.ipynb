{
  "cells": [
    {
      "metadata": {
        "trusted": true
      },
      "cell_type": "code",
      "source": "import numpy as np\nimport matplotlib.pyplot as plt\nimport os\nimport scipy.ndimage as ndi\nimport skimage.filters as fl\nimport warnings\n\nwarnings.filterwarnings('ignore')",
      "execution_count": 7,
      "outputs": []
    },
    {
      "metadata": {
        "trusted": true
      },
      "cell_type": "code",
      "source": "from numpy import uint8, int64, float64, array, arange, zeros, zeros_like, ones, mean\nfrom numpy.fft import fft, fft2, ifft, ifft2, fftshift\nfrom math import log2\nfrom scipy.ndimage import convolve, correlate, uniform_filter, gaussian_laplace, gaussian_filter, generic_filter, minimum_filter, maximum_filter, median_filter, rank_filter\nfrom scipy.signal import wiener\nfrom skimage import io, data\nfrom skimage.color import rgb2gray\nfrom skimage.draw import polygon\nfrom skimage.exposure import adjust_gamma, equalize_hist, rescale_intensity\nfrom skimage.filters import threshold_otsu, threshold_isodata, prewitt_h, prewitt_v, prewitt, roberts, sobel, laplace\nfrom skimage.io import imshow\nfrom skimage.transform import rescale\nfrom skimage.util import img_as_ubyte, img_as_float, img_as_bool, random_noise",
      "execution_count": 9,
      "outputs": []
    },
    {
      "metadata": {},
      "cell_type": "markdown",
      "source": "## numpy"
    },
    {
      "metadata": {
        "trusted": true
      },
      "cell_type": "code",
      "source": "def add(image, c):\n    return uint8(np.clip(float64(image) + c, 0, 255))",
      "execution_count": 7,
      "outputs": []
    },
    {
      "metadata": {},
      "cell_type": "markdown",
      "source": "## matplotlib"
    },
    {
      "metadata": {
        "trusted": true
      },
      "cell_type": "code",
      "source": "def matplot(img, title=None, cmap=None, figsize=None):\n    col = len(img)\n    \n    if figsize is None:\n        plt.figure(figsize=(col * 4, col * 4))\n    else:\n        plt.figure(figsize=figsize)\n        \n    for i, j in enumerate(img):\n        plt.subplot(1, col, i + 1)\n        plt.axis(\"off\")\n        \n        if title != None:\n            plt.title(title[i])\n        if cmap != None and cmap[i] != \"\":\n            plt.imshow(j, cmap=cmap[i])\n        else:\n            imshow(j)",
      "execution_count": 11,
      "outputs": []
    },
    {
      "metadata": {},
      "cell_type": "markdown",
      "source": "## Chapter 2"
    },
    {
      "metadata": {
        "trusted": true
      },
      "cell_type": "code",
      "source": "def imread(fname):\n    return io.imread(os.path.join(\"..\", \"Image\", \"read\", fname))",
      "execution_count": 9,
      "outputs": []
    },
    {
      "metadata": {
        "trusted": true
      },
      "cell_type": "code",
      "source": "def imsave(fname, image):\n    io.imsave(os.path.join(\"..\", \"Image\", \"save\", fname), image)",
      "execution_count": 10,
      "outputs": []
    },
    {
      "metadata": {},
      "cell_type": "markdown",
      "source": "## Chapter 3"
    },
    {
      "metadata": {
        "trusted": true
      },
      "cell_type": "code",
      "source": "def spatial_resolution(image, scale):\n    return rescale(rescale(image, 1 / scale), scale, order=0)",
      "execution_count": 11,
      "outputs": []
    },
    {
      "metadata": {
        "trusted": true
      },
      "cell_type": "code",
      "source": "def grayslice(image, n):\n    image = img_as_ubyte(image)\n    v = 256 // n\n    return image // v * v   ",
      "execution_count": 12,
      "outputs": []
    },
    {
      "metadata": {},
      "cell_type": "markdown",
      "source": "##  Chapter 4"
    },
    {
      "metadata": {
        "trusted": true
      },
      "cell_type": "code",
      "source": "def imhist(image, equal=False):\n    if equal:\n        image = img_as_ubyte(equalize_hist(image))\n    f = plt.figure()\n    f.show(plt.hist(image.flatten(), bins=256))",
      "execution_count": 13,
      "outputs": []
    },
    {
      "metadata": {},
      "cell_type": "markdown",
      "source": "## Chapter 5"
    },
    {
      "metadata": {
        "trusted": true
      },
      "cell_type": "code",
      "source": "def unsharp(alpha=0.2):\n    A1 = array([[-1, 1, -1], \n                [1, 1, 1], \n                [-1, 1, -1]], dtype=float64)\n    A2 = array([[0, -1, 0], \n                [-1, 5, -1], \n                [0, -1, 0]], dtype=float64)\n    return (alpha * A1 + A2) / (alpha + 1)",
      "execution_count": 14,
      "outputs": []
    },
    {
      "metadata": {},
      "cell_type": "markdown",
      "source": "## Chapter 6"
    },
    {
      "metadata": {
        "trusted": true
      },
      "cell_type": "code",
      "source": "ne = array([[1, 1, 0], [1, 1, 0], [0, 0, 0]])\nbi = array([[1, 2, 1], [2, 4, 2], [1, 2, 1]]) / 4\nbc = array([[1, 4, 6, 4, 1], \n            [4, 16, 24, 16, 4], \n            [6, 24, 35, 24, 6], \n            [4, 16, 24, 16, 4], \n            [1, 4, 6, 4, 1]]) / 64",
      "execution_count": 15,
      "outputs": []
    },
    {
      "metadata": {
        "trusted": true
      },
      "cell_type": "code",
      "source": "def zeroint(img):\n    r, c = img.shape\n    res = zeros((r*2, c*2))\n    res[::2, ::2] = img\n    return res",
      "execution_count": 16,
      "outputs": []
    },
    {
      "metadata": {
        "trusted": true
      },
      "cell_type": "code",
      "source": "def spatial_filtering(img, p, filt):\n    for i in range(int(log2(p))):\n        img_zi = zeroint(img)\n        img_sf = correlate(img_zi, filt, mode=\"reflect\")\n    return img_sf",
      "execution_count": 17,
      "outputs": []
    },
    {
      "metadata": {},
      "cell_type": "markdown",
      "source": "## Chapter 7"
    },
    {
      "metadata": {
        "trusted": true
      },
      "cell_type": "code",
      "source": "def fftformat(F):\n    for f in F:\n        print(\"%8.4f %+.4fi\" % (f.real, f.imag))",
      "execution_count": 18,
      "outputs": []
    },
    {
      "metadata": {
        "trusted": true
      },
      "cell_type": "code",
      "source": "def fftshow(f, type=\"log\"):\n    if type == \"log\":\n        return rescale_intensity(np.log(1 + abs(f)), out_range=(0, 1))\n    elif type == \"abs\":\n        return rescale_intensity(abs(f), out_range=(0, 1))",
      "execution_count": 32,
      "outputs": []
    },
    {
      "metadata": {
        "trusted": true
      },
      "cell_type": "code",
      "source": "def circle_mask(img, type, lh, D=15, n=2, sigma=10):\n    r, c = img.shape\n    arr = arange(-r / 2, r / 2)\n    arc = arange(-c / 2, c / 2)\n    x, y = np.meshgrid(arr, arc)\n        \n    if type == \"ideal\":        \n        if lh == \"low\":\n            return x**2 + y**2 < D**2\n        elif lh == \"high\":\n            return x**2 + y**2 > D**2\n    elif type == \"butterworth\":\n        if lh == \"low\":\n            return 1 / (1 + (np.sqrt(2) - 1) * ((x**2 + y**2) / D**2)**n)\n        elif lh == \"high\":\n            return 1 / (1 + (D**2 / (x**2 + y**2))**n)\n    elif type == \"gaussian\":\n        g = np.exp(-(x**2 + y**2) / sigma**2)\n        if lh == \"low\":\n            return g / g.max()\n        elif lh == \"high\":\n            return 1 - g / g.max()",
      "execution_count": 4,
      "outputs": []
    },
    {
      "metadata": {
        "trusted": true
      },
      "cell_type": "code",
      "source": "def fft_filter(img, type, lh, D=15, n=2, sigma=10):\n    f = fftshift(fft2(img))\n    c = circle_mask(img, type, lh, D, n, sigma)\n    fc = f * c\n    return fftshow(f), c, fftshow(fc), fftshow(ifft2(fc), \"abs\")",
      "execution_count": 5,
      "outputs": []
    },
    {
      "metadata": {
        "trusted": true
      },
      "cell_type": "code",
      "source": "def fft_inverse(img):\n    pass",
      "execution_count": 6,
      "outputs": []
    },
    {
      "metadata": {},
      "cell_type": "markdown",
      "source": "## Chapter 8"
    },
    {
      "metadata": {
        "trusted": true
      },
      "cell_type": "code",
      "source": "def periodic_noise(img, s=None):    \n    if \"numpy\" not in str(type(s)):\n        r, c = img.shape\n        x, y = np.mgrid[0:r, 0:c].astype(float64)\n        s = np.sin(x / 3 + y / 3) + 1\n    return (2 * img_as_float(img) + s / 2) / 3",
      "execution_count": 16,
      "outputs": []
    },
    {
      "metadata": {
        "trusted": true
      },
      "cell_type": "code",
      "source": "def outlier_filter(img, D=0.5):\n    av = array([[1, 1, 1], \n            [1, 0, 1], \n            [1, 1, 1]]) / 8\n    img_av = convolve(img, av)\n    r = abs(img - img_av) > D\n    return r * img_av + (1 - r) * img",
      "execution_count": 21,
      "outputs": []
    },
    {
      "metadata": {
        "trusted": true
      },
      "cell_type": "code",
      "source": "def image_average(img, n):\n    x, y = img.shape\n    t = zeros((x, y, n))\n    for i in range(n):\n        t[:, :, i] = random_noise(img, \"gaussian\")\n    return np.mean(t, 2)",
      "execution_count": 22,
      "outputs": []
    },
    {
      "metadata": {
        "trusted": true
      },
      "cell_type": "code",
      "source": "def pseudo_median(x):\n    MAXMIN = 0\n    MINMAX = 255\n    for i in range(len(x) - 2):\n        MAXMIN = max(MAXMIN, min(x[i:i+3]))\n        MINMAX = min(MINMAX, max(x[i:i+3]))\n    return 0.5 * (MAXMIN + MINMAX)",
      "execution_count": null,
      "outputs": []
    },
    {
      "metadata": {
        "trusted": true
      },
      "cell_type": "code",
      "source": "def periodic_filter(img, type=\"band\", k=1):\n    r, c = img.shape\n    x_mid, y_mid = r // 2, c // 2\n    \n    f = fftshift(fft2(img))\n    f2 = img_as_ubyte(fftshow(f, \"abs\"))\n    f2[x_mid, y_mid] = 0\n    x, y = np.where(f2 == f2.max())\n    d = np.sqrt((x[0] - x_mid)**2 + (y[0] - y_mid)**2)\n    \n    if type == \"band\":\n        x, y = np.meshgrid(arange(0, r), arange(0, c))\n        z = np.sqrt((x - x_mid)**2 + (y - y_mid)**2)\n        br = (z < np.floor(d - k)) | (z > np.ceil(d + k))\n        fc = f * br\n    elif type == \"criss\":\n        fc = np.copy(f)\n        fc[x, :] = 0\n        fc[:, y] = 0    \n    \n    fci = ifft2(fc)\n    return fftshow(f), fftshow(fc), fftshow(fci, \"abs\") ",
      "execution_count": 1,
      "outputs": []
    },
    {
      "metadata": {
        "trusted": true
      },
      "cell_type": "code",
      "source": "def fft_inverse(img, c, type=\"low\", D2=15, n2=2, d=0.01):\n    f = fftshift(fft2(img_as_ubyte(img)))\n    if type == \"low\":\n        c2 = circle_mask(img, \"butterworth\", \"low\", D2, n2, 10)\n        fb = f / c * c2\n    elif type == \"con\":\n        c2 = np.copy(c)\n        c2[np.where(c2 < d)] = 1\n        fb = f / c2\n    return c2, fftshow(ifft2(fb), \"abs\")",
      "execution_count": 7,
      "outputs": []
    },
    {
      "metadata": {
        "trusted": true
      },
      "cell_type": "code",
      "source": "def deblur(img, m, type=\"con\",d=0.02):\n    m2 = zeros_like(img, dtype=float64)\n    r, c = m.shape\n    m2[0:r, 0:c] = m\n    mf = fft2(m2)\n    \n    if type == \"div\":\n        bmi = ifft2(fft2(img) / mf)\n        bmu = fftshow(bmi, \"abs\")\n    elif type == \"con\":        \n        mf[np.where(abs(mf) < d)] = 1\n        bmi = abs(ifft2(fft2(img) / mf))\n        bmu = img_as_ubyte(bmi / bmi.max())\n        bmu = rescale_intensity(bmu, in_range=(0, 128))\n    return bmu",
      "execution_count": 15,
      "outputs": []
    },
    {
      "metadata": {
        "trusted": true
      },
      "cell_type": "markdown",
      "source": "## Chapter 9"
    },
    {
      "metadata": {
        "trusted": true
      },
      "cell_type": "code",
      "source": "def threshold_adaptive(img, cut):\n    r, c = img.shape\n    w = c // cut\n    starts = range(0, c - 1, w)  \n    ends = range(w, c + 1, w)\n    z = zeros((r, c))\n    for i in range(cut):\n        tmp = img[:, starts[i]:ends[i]]\n        z[:, starts[i]:ends[i]] = tmp > threshold_otsu(tmp)\n    return z",
      "execution_count": 10,
      "outputs": []
    },
    {
      "metadata": {
        "trusted": true
      },
      "cell_type": "code",
      "source": "",
      "execution_count": null,
      "outputs": []
    }
  ],
  "metadata": {
    "kernelspec": {
      "name": "python36",
      "display_name": "Python 3.6",
      "language": "python"
    },
    "language_info": {
      "mimetype": "text/x-python",
      "nbconvert_exporter": "python",
      "name": "python",
      "pygments_lexer": "ipython3",
      "version": "3.6.6",
      "file_extension": ".py",
      "codemirror_mode": {
        "version": 3,
        "name": "ipython"
      }
    }
  },
  "nbformat": 4,
  "nbformat_minor": 2
}