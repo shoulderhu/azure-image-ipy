{
  "cells": [
    {
      "metadata": {
        "collapsed": true
      },
      "cell_type": "markdown",
      "source": "# Homework #4 \n410485002 資工四 胡孝德"
    },
    {
      "metadata": {
        "trusted": true
      },
      "cell_type": "code",
      "source": "import jupyter_notebook\nfrom Image_Processing.util import *\n\n%matplotlib inline",
      "execution_count": 1,
      "outputs": [
        {
          "output_type": "stream",
          "text": "importing Jupyter notebook from /home/nbuser/library/Image_Processing/util.ipynb\n",
          "name": "stdout"
        }
      ]
    },
    {
      "metadata": {},
      "cell_type": "markdown",
      "source": "## Chapter 9 Exercises"
    },
    {
      "metadata": {},
      "cell_type": "markdown",
      "source": "2\\. Create a simple image with \n\n```\nx, y = np.mgrid[0:256,0:256].astype(float)\nz = np.sqrt((x-128)**2+(y-128)**2)\nz2 = z.max()-z\n```\n\nThrehold z2 at different values, and comment on the results.  \nWhat happens to the amount of White as the threshold value increases?  \nCan you state and prove a general result?"
    },
    {
      "metadata": {
        "trusted": true
      },
      "cell_type": "code",
      "source": "",
      "execution_count": null,
      "outputs": []
    },
    {
      "metadata": {},
      "cell_type": "markdown",
      "source": "3\\. Repeat the above question, but with the image `cameraman.png`."
    },
    {
      "metadata": {
        "trusted": true
      },
      "cell_type": "code",
      "source": "",
      "execution_count": null,
      "outputs": []
    },
    {
      "metadata": {},
      "cell_type": "markdown",
      "source": "5\\. Superimpose the image `nicework.png` onto the image `cameraman.png`. You can do this with\n\n```\nc = io.imread('cameraman.png')\nn = io.imread('nicework.png')\nm = c//2+n//2\n```\n\nCan you threshold this new image `m` to isolate the text?"
    },
    {
      "metadata": {
        "trusted": true
      },
      "cell_type": "code",
      "source": "",
      "execution_count": null,
      "outputs": []
    },
    {
      "metadata": {},
      "cell_type": "markdown",
      "source": "6\\. Try the same problem as above, but define `m` as:\n\n```\nm = c.*(n==0);\n```"
    },
    {
      "metadata": {
        "trusted": true
      },
      "cell_type": "code",
      "source": "",
      "execution_count": null,
      "outputs": []
    },
    {
      "metadata": {},
      "cell_type": "markdown",
      "source": "7\\. Create a version of the circles image with\n\n```\nt = io.imread('circles.png')\nx,y = np.mgrid[0:256,0:256].astype(float)\nt2 = t.astype(float)*(x+y)/2\nt3 = (t2/255).astype('uint8')\n```\n\nAttempt to threshold the image `t3` to obtain the circles alone, using adaptive thresholding.   \nWhat sized blocks produce the best result?"
    },
    {
      "metadata": {
        "trusted": true
      },
      "cell_type": "code",
      "source": "",
      "execution_count": null,
      "outputs": []
    },
    {
      "metadata": {},
      "cell_type": "markdown",
      "source": "8\\. Enter the following matrix using \n\n```\nim = 200*np.ones((10, 10))\nim[2:5,2:8]=50\nim[5:8,3:7]=50\nim = (im + np.round(8*sc.randn(10,10))).astype('uint8')\n```"
    },
    {
      "metadata": {},
      "cell_type": "markdown",
      "source": "This will create something like this:\n```\n201  195  203  203  199  200  204  190  198  203\n201  204  209  197  210  202  205  195  202  199\n205  198   46   60   53   37   50   51  194  205\n208  203   54   50   51   50   55   48  193  194\n200  193   50   56   42   53   55   49  196  211\n200  198  203   49   51   60   51  205  207  198\n205  196  202   53   52   34   46  202  199  193\n199  202  194   47   51   55   48  191  190  197\n194  206  198  212  195  196  204  204  199  200\n201  189  203  200  191  196  207  203  193  204\n```\n\nand use the appropriate filter to apply each of the Roberts, Prewitt, Sobel, Laplacian, and zero-crossing edge-finding methods to the image. In the case of applying two filters (such as with Roberts, Prewitt, or Sobel) apply each filter separately, and join the results.  \nApply thresholding if necessary to obtain a binary image showing only the edges.  \nWhich method seems to produce the best results?"
    },
    {
      "metadata": {
        "trusted": true
      },
      "cell_type": "code",
      "source": "",
      "execution_count": null,
      "outputs": []
    },
    {
      "metadata": {},
      "cell_type": "markdown",
      "source": "10\\. Open up the image `cameraman.png` in MATLAB, and apply each of the following edge-finding techniques in turn:"
    },
    {
      "metadata": {},
      "cell_type": "markdown",
      "source": "(a) Roberts"
    },
    {
      "metadata": {
        "trusted": true
      },
      "cell_type": "code",
      "source": "",
      "execution_count": null,
      "outputs": []
    },
    {
      "metadata": {},
      "cell_type": "markdown",
      "source": "(b) Prewitt"
    },
    {
      "metadata": {
        "trusted": true
      },
      "cell_type": "code",
      "source": "",
      "execution_count": null,
      "outputs": []
    },
    {
      "metadata": {},
      "cell_type": "markdown",
      "source": "(c) Sobel"
    },
    {
      "metadata": {
        "trusted": true
      },
      "cell_type": "code",
      "source": "",
      "execution_count": null,
      "outputs": []
    },
    {
      "metadata": {},
      "cell_type": "markdown",
      "source": "(d) Laplacian"
    },
    {
      "metadata": {
        "trusted": true
      },
      "cell_type": "code",
      "source": "",
      "execution_count": null,
      "outputs": []
    },
    {
      "metadata": {},
      "cell_type": "markdown",
      "source": "(e) Zero-crossings of a Laplacian"
    },
    {
      "metadata": {
        "trusted": true
      },
      "cell_type": "code",
      "source": "",
      "execution_count": null,
      "outputs": []
    },
    {
      "metadata": {},
      "cell_type": "markdown",
      "source": "(f) The Marr-Hildreth method"
    },
    {
      "metadata": {
        "trusted": true
      },
      "cell_type": "code",
      "source": "",
      "execution_count": null,
      "outputs": []
    },
    {
      "metadata": {},
      "cell_type": "markdown",
      "source": "(g) Canny"
    },
    {
      "metadata": {
        "trusted": true
      },
      "cell_type": "code",
      "source": "",
      "execution_count": null,
      "outputs": []
    },
    {
      "metadata": {},
      "cell_type": "markdown",
      "source": "Which seems to you to provide the best looking result?"
    },
    {
      "metadata": {
        "trusted": true
      },
      "cell_type": "code",
      "source": "",
      "execution_count": null,
      "outputs": []
    },
    {
      "metadata": {},
      "cell_type": "markdown",
      "source": "13\\. Pick a grayscale image, and add some noise to it using the commands introduced in Section 8.2.  \nCreate two images: `c1` corrupted with salt and pepper noise, and `c2` correpted with Gaussian noise.  \nNow apply the edge finding techniques to each of the \"noisy\" images `c1` and `c2`. Which technique seems to give"
    },
    {
      "metadata": {},
      "cell_type": "markdown",
      "source": "(a) The best results in the presense of noise?"
    },
    {
      "metadata": {
        "trusted": true
      },
      "cell_type": "code",
      "source": "",
      "execution_count": null,
      "outputs": []
    },
    {
      "metadata": {},
      "cell_type": "markdown",
      "source": "(b) The worst results in the presense of noise?"
    },
    {
      "metadata": {
        "trusted": true
      },
      "cell_type": "code",
      "source": "",
      "execution_count": null,
      "outputs": []
    },
    {
      "metadata": {},
      "cell_type": "markdown",
      "source": "## Chapter 10 Exercises"
    },
    {
      "metadata": {},
      "cell_type": "markdown",
      "source": "1\\. For each of the following images Ai and structuring elements Bj:\n\n```\nA1 =             A2 =             A3 =             B1 =   B2 =   B3 =\n0 0 0 0 0 0 0 0  0 0 0 0 0 0 0 0  0 0 0 0 0 0 0 0  0 1 0  1 1 1  1 0 0                           \n0 0 0 1 1 1 1 0  0 1 1 1 1 1 1 0  0 0 0 0 0 1 1 0  1 1 1  1 1 1  0 0 0\n0 0 0 1 1 1 1 0  0 1 1 1 1 1 1 0  0 1 1 1 0 1 1 0  0 1 0  1 1 1  0 0 1\n0 1 1 1 1 1 1 0  0 1 1 0 0 1 1 0  0 1 1 1 0 1 1 0\n0 1 1 1 1 1 1 0  0 1 1 0 0 1 1 0  0 1 1 1 0 1 1 0\n0 1 1 1 1 0 0 0  0 1 1 1 1 1 1 0  0 1 1 1 0 0 0 0\n0 1 1 1 1 0 0 0  0 1 1 1 1 1 1 0  0 1 1 1 0 0 0 0\n0 0 0 0 0 0 0 0  0 0 0 0 0 0 0 0  0 0 0 0 0 0 0 0\n```"
    },
    {
      "metadata": {},
      "cell_type": "markdown",
      "source": "calculate the erosion, the dilation, the opening, and the closing.  "
    },
    {
      "metadata": {
        "trusted": true
      },
      "cell_type": "code",
      "source": "",
      "execution_count": null,
      "outputs": []
    },
    {
      "metadata": {},
      "cell_type": "markdown",
      "source": "4\\. Using the binary images `circles.png`, `circle2.png`, `meet_text.png`, `nice_work.png`, and `rings.png`, view the erosion and dilation with both the square and the cross-shaped structuring elements."
    },
    {
      "metadata": {
        "trusted": true
      },
      "cell_type": "code",
      "source": "",
      "execution_count": null,
      "outputs": []
    },
    {
      "metadata": {},
      "cell_type": "markdown",
      "source": "Can you see any differences?"
    },
    {
      "metadata": {
        "trusted": true
      },
      "cell_type": "code",
      "source": "",
      "execution_count": null,
      "outputs": []
    },
    {
      "metadata": {},
      "cell_type": "markdown",
      "source": "5\\. Read in the image `circles2.png`\n"
    },
    {
      "metadata": {},
      "cell_type": "markdown",
      "source": "(a) Erode with squares of increasing size until the image starts to split into disconnected components."
    },
    {
      "metadata": {
        "trusted": true
      },
      "cell_type": "code",
      "source": "",
      "execution_count": null,
      "outputs": []
    },
    {
      "metadata": {},
      "cell_type": "markdown",
      "source": "(b) Find the coordinates of a pixel in one of the components."
    },
    {
      "metadata": {
        "trusted": true
      },
      "cell_type": "code",
      "source": "",
      "execution_count": null,
      "outputs": []
    },
    {
      "metadata": {},
      "cell_type": "markdown",
      "source": "(c) Use the appropriate commands to isolate that particular component."
    },
    {
      "metadata": {
        "trusted": true
      },
      "cell_type": "code",
      "source": "",
      "execution_count": null,
      "outputs": []
    },
    {
      "metadata": {},
      "cell_type": "markdown",
      "source": "6\\.  \n(a) With your disconnected image from the previous question, compute its boundary."
    },
    {
      "metadata": {
        "trusted": true
      },
      "cell_type": "code",
      "source": "",
      "execution_count": null,
      "outputs": []
    },
    {
      "metadata": {},
      "cell_type": "markdown",
      "source": "(b) Again find a pixel inside one of the boundaries."
    },
    {
      "metadata": {
        "trusted": true
      },
      "cell_type": "code",
      "source": "",
      "execution_count": null,
      "outputs": []
    },
    {
      "metadata": {},
      "cell_type": "markdown",
      "source": "(c) Use the region filling function to fill that region."
    },
    {
      "metadata": {
        "trusted": true
      },
      "cell_type": "code",
      "source": "",
      "execution_count": null,
      "outputs": []
    },
    {
      "metadata": {},
      "cell_type": "markdown",
      "source": "(d) Display the image as a boundary with one of the regions filled in."
    },
    {
      "metadata": {
        "trusted": true
      },
      "cell_type": "code",
      "source": "",
      "execution_count": null,
      "outputs": []
    },
    {
      "metadata": {},
      "cell_type": "markdown",
      "source": "7\\. Using the 3 x 3 square structuring element, compute the skeletons of"
    },
    {
      "metadata": {},
      "cell_type": "markdown",
      "source": "(a) A 7 square"
    },
    {
      "metadata": {
        "trusted": true
      },
      "cell_type": "code",
      "source": "",
      "execution_count": null,
      "outputs": []
    },
    {
      "metadata": {},
      "cell_type": "markdown",
      "source": "(b) A 5 x 9 rectangle"
    },
    {
      "metadata": {
        "trusted": true
      },
      "cell_type": "code",
      "source": "",
      "execution_count": null,
      "outputs": []
    },
    {
      "metadata": {},
      "cell_type": "markdown",
      "source": "(c) An L shaped figure formed from an 8 x 8 square with a 3 x 3 square taken from a corner."
    },
    {
      "metadata": {
        "trusted": true
      },
      "cell_type": "code",
      "source": "",
      "execution_count": null,
      "outputs": []
    },
    {
      "metadata": {},
      "cell_type": "markdown",
      "source": "(d) An H shaped figure formed from a 15 x 15 square with 5 x 5 squares taken from the centers of the top and bottom."
    },
    {
      "metadata": {
        "trusted": true
      },
      "cell_type": "code",
      "source": "",
      "execution_count": null,
      "outputs": []
    },
    {
      "metadata": {},
      "cell_type": "markdown",
      "source": "(e) A cross formed from an 11 x 11 square with 3 x 3 squares taken from each corner."
    },
    {
      "metadata": {
        "trusted": true
      },
      "cell_type": "code",
      "source": "",
      "execution_count": null,
      "outputs": []
    },
    {
      "metadata": {},
      "cell_type": "markdown",
      "source": "8\\. Repeat the above question but use the cross-shaped structuring element."
    },
    {
      "metadata": {
        "trusted": true
      },
      "cell_type": "code",
      "source": "",
      "execution_count": null,
      "outputs": []
    },
    {
      "metadata": {},
      "cell_type": "markdown",
      "source": "10\\. Use the hit-or-miss transform with appropriate structuring elements to find the dot on the `i` in the word `Friday` in the image `meet_text.png`."
    },
    {
      "metadata": {
        "trusted": true
      },
      "cell_type": "code",
      "source": "",
      "execution_count": null,
      "outputs": []
    }
  ],
  "metadata": {
    "kernelspec": {
      "name": "python36",
      "display_name": "Python 3.6",
      "language": "python"
    },
    "language_info": {
      "mimetype": "text/x-python",
      "nbconvert_exporter": "python",
      "name": "python",
      "pygments_lexer": "ipython3",
      "version": "3.6.6",
      "file_extension": ".py",
      "codemirror_mode": {
        "version": 3,
        "name": "ipython"
      }
    }
  },
  "nbformat": 4,
  "nbformat_minor": 2
}